{
 "cells": [
  {
   "cell_type": "code",
   "execution_count": 1,
   "metadata": {},
   "outputs": [],
   "source": [
    "from pynwb import NWBHDF5IO\n",
    "import numpy as np\n",
    "from matplotlib import pyplot as plt\n",
    "import matplotlib\n",
    "from neuralynx_io import neuralynx_io\n",
    "import datetime\n",
    "import scipy\n",
    "from scipy import signal\n",
    "import multiprocessing\n",
    "import helperFunctions\n",
    "import fhMethods\n",
    "import cusignal\n",
    "import cupy as cp\n",
    "import itertools\n",
    "from tqdm import tqdm\n",
    "\n",
    "# Device 0 and Device 1 are K80s\n",
    "#cp.cuda.Device(0).use() - K80 Unit 1\n",
    "#cp.cuda.Device(1).use() - K80 Unit 2\n",
    "\n",
    "\n",
    "filename = r\"E:\\data\\6305\\patient6305.nwb\"\n",
    "nwbIO = NWBHDF5IO(filename, 'r')\n",
    "openNWB = nwbIO.read()\n",
    "\n",
    "ecephys = openNWB.processing['ecephys']\n",
    "(samples, signalNumber) = np.shape(openNWB.processing['ecephys'].data_interfaces['LAH'].data[:,:])\n",
    "samplingRate = ecephys.data_interfaces['LAH'].rate"
   ]
  },
  {
   "cell_type": "code",
   "execution_count": 6,
   "metadata": {},
   "outputs": [],
   "source": [
    "recordingStartTimestamp = openNWB.session_start_time.timestamp()\n",
    "seizureList = []\n",
    "\n",
    "#Seizure 1\n",
    "#seizureStart = datetime.datetime(2020, 3, 5, 5, 30, 30) long\n",
    "seizureStart = datetime.datetime(2020, 3, 5, 7, 0, 0)\n",
    "seizureOnsetStart = datetime.datetime(2020, 3, 5, 7, 1, 7)\n",
    "seizureOnsetEnd = datetime.datetime(2020, 3, 5, 7, 2, 53)\n",
    "seizureEnd = datetime.datetime(2020, 3, 5, 7, 3, 30)\n",
    "#seizureEnd = datetime.datetime(2020, 3, 5, 7, 40, 30)\n",
    "\n",
    "seizureTsStart = seizureStart.timestamp()\n",
    "seizureTsEnd = seizureEnd.timestamp()\n",
    "\n",
    "seizureTsOnsetStart = seizureOnsetStart.timestamp()\n",
    "seizureTsOnsetEnd = seizureOnsetEnd.timestamp()\n",
    "\n",
    "\n",
    "kadStart = seizureTsStart - recordingStartTimestamp\n",
    "kadEnd = seizureTsEnd - recordingStartTimestamp\n",
    "onsetStartTs = seizureTsOnsetStart - recordingStartTimestamp\n",
    "onsetEndTs = seizureTsOnsetEnd - recordingStartTimestamp\n",
    "\n",
    "kStart = int(kadStart * samplingRate)\n",
    "kEnd = int(kadEnd * samplingRate)\n",
    "oStart = int(onsetStartTs * samplingRate)\n",
    "oEnd = int(onsetEndTs * samplingRate)\n",
    "\n",
    "seizureList.append((kStart, kEnd, oStart, oEnd))\n",
    "\n",
    "#Seizure 2\n",
    "seizureStart = datetime.datetime(2020, 3, 5, 6, 20, 30)\n",
    "seizureOnsetStart = datetime.datetime(2020, 3, 5, 7, 50, 30)\n",
    "seizureOnsetEnd = datetime.datetime(2020, 3, 5, 7, 52, 43)\n",
    "seizureEnd = datetime.datetime(2020, 3, 5, 9, 30, 30)\n",
    "\n",
    "seizureTsStart = seizureStart.timestamp()\n",
    "seizureTsEnd = seizureEnd.timestamp()\n",
    "\n",
    "seizureTsOnsetStart = seizureOnsetStart.timestamp()\n",
    "seizureTsOnsetEnd = seizureOnsetEnd.timestamp()\n",
    "\n",
    "\n",
    "kadStart = seizureTsStart - recordingStartTimestamp\n",
    "kadEnd = seizureTsEnd - recordingStartTimestamp\n",
    "onsetStartTs = seizureTsOnsetStart - recordingStartTimestamp\n",
    "onsetEndTs = seizureTsOnsetEnd - recordingStartTimestamp\n",
    "\n",
    "\n",
    "kStart = int(kadStart * samplingRate)\n",
    "kEnd = int(kadEnd * samplingRate)\n",
    "oStart = int(onsetStartTs * samplingRate)\n",
    "oEnd = int(onsetEndTs * samplingRate)\n",
    "seizureList.append((kStart, kEnd, oStart, oEnd))\n",
    "\n",
    "#Seizure 3\n",
    "seizureStart = datetime.datetime(2020, 3, 5, 7, 30, 11)\n",
    "seizureOnsetStart = datetime.datetime(2020, 3, 5, 9, 3, 11)\n",
    "seizureOnsetEnd = datetime.datetime(2020, 3, 5, 9, 5, 3)\n",
    "seizureEnd = datetime.datetime(2020, 3, 5, 10, 30, 30)\n",
    "\n",
    "seizureTsStart = seizureStart.timestamp()\n",
    "seizureTsEnd = seizureEnd.timestamp()\n",
    "\n",
    "seizureTsOnsetStart = seizureOnsetStart.timestamp()\n",
    "seizureTsOnsetEnd = seizureOnsetEnd.timestamp()\n",
    "\n",
    "\n",
    "kadStart = seizureTsStart - recordingStartTimestamp\n",
    "kadEnd = seizureTsEnd - recordingStartTimestamp\n",
    "onsetStartTs = seizureTsOnsetStart - recordingStartTimestamp\n",
    "onsetEndTs = seizureTsOnsetEnd - recordingStartTimestamp\n",
    "\n",
    "\n",
    "kStart = int(kadStart * samplingRate)\n",
    "kEnd = int(kadEnd * samplingRate)\n",
    "oStart = int(onsetStartTs * samplingRate)\n",
    "oEnd = int(onsetEndTs * samplingRate)\n",
    "seizureList.append((kStart, kEnd, oStart, oEnd))\n"
   ]
  },
  {
   "cell_type": "code",
   "execution_count": 9,
   "metadata": {},
   "outputs": [
    {
     "data": {
      "text/plain": [
       "(32420600, 34700600, 33500600, 33527200)"
      ]
     },
     "execution_count": 9,
     "metadata": {},
     "output_type": "execute_result"
    }
   ],
   "source": [
    "seizureList.pop(1)"
   ]
  },
  {
   "cell_type": "code",
   "execution_count": 10,
   "metadata": {},
   "outputs": [
    {
     "data": {
      "text/plain": [
       "[(32894600, 32936600, 32908000, 32929200)]"
      ]
     },
     "execution_count": 10,
     "metadata": {},
     "output_type": "execute_result"
    }
   ],
   "source": [
    "seizureList"
   ]
  },
  {
   "cell_type": "code",
   "execution_count": 11,
   "metadata": {},
   "outputs": [],
   "source": [
    "contactsOfInterest = [('LPH', 5), ('LPH', 6), ('RAH', 3), ('RAH', 4), ('LPI', 5), ('LPI', 6),('LAI',5), ('LAI',6), ('LTP', 1), ('LTP', 6), ('LTP', 7), ('LTP', 8)]\n",
    "contactCombos = list(itertools.combinations(contactsOfInterest, 2))"
   ]
  },
  {
   "cell_type": "code",
   "execution_count": 12,
   "metadata": {},
   "outputs": [
    {
     "ename": "KeyError",
     "evalue": "'commonAverageReference'",
     "output_type": "error",
     "traceback": [
      "\u001b[1;31m---------------------------------------------------------------------------\u001b[0m",
      "\u001b[1;31mKeyError\u001b[0m                                  Traceback (most recent call last)",
      "\u001b[1;32m~\\AppData\\Local\\Temp/ipykernel_1892/2612442255.py\u001b[0m in \u001b[0;36m<module>\u001b[1;34m\u001b[0m\n\u001b[0;32m      1\u001b[0m \u001b[0mecephysData\u001b[0m \u001b[1;33m=\u001b[0m \u001b[0mopenNWB\u001b[0m\u001b[1;33m.\u001b[0m\u001b[0mprocessing\u001b[0m\u001b[1;33m[\u001b[0m\u001b[1;34m'ecephys'\u001b[0m\u001b[1;33m]\u001b[0m\u001b[1;33m\u001b[0m\u001b[1;33m\u001b[0m\u001b[0m\n\u001b[1;32m----> 2\u001b[1;33m \u001b[0mcarData\u001b[0m \u001b[1;33m=\u001b[0m \u001b[0mopenNWB\u001b[0m\u001b[1;33m.\u001b[0m\u001b[0mprocessing\u001b[0m\u001b[1;33m[\u001b[0m\u001b[1;34m'commonAverageReference'\u001b[0m\u001b[1;33m]\u001b[0m\u001b[1;33m\u001b[0m\u001b[1;33m\u001b[0m\u001b[0m\n\u001b[0m",
      "\u001b[1;32m~\\Miniconda3\\envs\\analysis\\lib\\site-packages\\hdmf\\utils.py\u001b[0m in \u001b[0;36m__getitem__\u001b[1;34m(self, args)\u001b[0m\n\u001b[0;32m    930\u001b[0m                 \u001b[1;32mreturn\u001b[0m \u001b[0msuper\u001b[0m\u001b[1;33m(\u001b[0m\u001b[1;33m)\u001b[0m\u001b[1;33m.\u001b[0m\u001b[0m__getitem__\u001b[0m\u001b[1;33m(\u001b[0m\u001b[0mval\u001b[0m\u001b[1;33m)\u001b[0m\u001b[1;33m\u001b[0m\u001b[1;33m\u001b[0m\u001b[0m\n\u001b[0;32m    931\u001b[0m         \u001b[1;32melse\u001b[0m\u001b[1;33m:\u001b[0m\u001b[1;33m\u001b[0m\u001b[1;33m\u001b[0m\u001b[0m\n\u001b[1;32m--> 932\u001b[1;33m             \u001b[1;32mreturn\u001b[0m \u001b[0msuper\u001b[0m\u001b[1;33m(\u001b[0m\u001b[1;33m)\u001b[0m\u001b[1;33m.\u001b[0m\u001b[0m__getitem__\u001b[0m\u001b[1;33m(\u001b[0m\u001b[0mkey\u001b[0m\u001b[1;33m)\u001b[0m\u001b[1;33m\u001b[0m\u001b[1;33m\u001b[0m\u001b[0m\n\u001b[0m\u001b[0;32m    933\u001b[0m \u001b[1;33m\u001b[0m\u001b[0m\n\u001b[0;32m    934\u001b[0m     \u001b[1;32mdef\u001b[0m \u001b[0m__setitem__\u001b[0m\u001b[1;33m(\u001b[0m\u001b[0mself\u001b[0m\u001b[1;33m,\u001b[0m \u001b[0mkey\u001b[0m\u001b[1;33m,\u001b[0m \u001b[0mvalue\u001b[0m\u001b[1;33m)\u001b[0m\u001b[1;33m:\u001b[0m\u001b[1;33m\u001b[0m\u001b[1;33m\u001b[0m\u001b[0m\n",
      "\u001b[1;31mKeyError\u001b[0m: 'commonAverageReference'"
     ]
    }
   ],
   "source": [
    "ecephysData = openNWB.processing['ecephys']\n",
    "carData = openNWB.processing['commonAverageReference']"
   ]
  },
  {
   "cell_type": "code",
   "execution_count": null,
   "metadata": {},
   "outputs": [],
   "source": [
    "car = carData.data_interfaces['Common Average Reference'].data[:]"
   ]
  },
  {
   "cell_type": "code",
   "execution_count": 13,
   "metadata": {},
   "outputs": [
    {
     "data": {
      "text/plain": [
       "'EKG'"
      ]
     },
     "execution_count": 13,
     "metadata": {},
     "output_type": "execute_result"
    }
   ],
   "source": [
    "regions = list(ecephysData.data_interfaces.keys())\n",
    "regions.pop(0) # remove EKG"
   ]
  },
  {
   "cell_type": "code",
   "execution_count": 15,
   "metadata": {},
   "outputs": [],
   "source": [
    "%matplotlib widget\n",
    "fs = samplingRate       # Sample rate, Hz\n",
    "cutoff = 3    # Desired cutoff frequency, Hz\n",
    "trans_width = 0.01  # Width of transition from pass band to stop band, Hz\n",
    "numtaps = 1001    # Size of the FIR filter.\n",
    "taps = signal.firls(numtaps, [0, cutoff - trans_width, cutoff, 0.5*fs], [0, 0, 1, 1], fs=fs)\n",
    "w, h = signal.freqz(taps, [1], worN=2000)"
   ]
  },
  {
   "cell_type": "code",
   "execution_count": 20,
   "metadata": {},
   "outputs": [
    {
     "data": {
      "application/vnd.jupyter.widget-view+json": {
       "model_id": "b59b73ac83674890b906c5027212a0b0",
       "version_major": 2,
       "version_minor": 0
      },
      "text/plain": [
       "Canvas(toolbar=Toolbar(toolitems=[('Home', 'Reset original view', 'home', 'home'), ('Back', 'Back to previous …"
      ]
     },
     "metadata": {},
     "output_type": "display_data"
    },
    {
     "data": {
      "application/vnd.jupyter.widget-view+json": {
       "model_id": "cec9d8384f194c578a31570f28c8af5d",
       "version_major": 2,
       "version_minor": 0
      },
      "text/plain": [
       "Canvas(toolbar=Toolbar(toolitems=[('Home', 'Reset original view', 'home', 'home'), ('Back', 'Back to previous …"
      ]
     },
     "metadata": {},
     "output_type": "display_data"
    },
    {
     "data": {
      "application/vnd.jupyter.widget-view+json": {
       "model_id": "3889879eb3a54c8b89f8cffa1aae3541",
       "version_major": 2,
       "version_minor": 0
      },
      "text/plain": [
       "Canvas(toolbar=Toolbar(toolitems=[('Home', 'Reset original view', 'home', 'home'), ('Back', 'Back to previous …"
      ]
     },
     "metadata": {},
     "output_type": "display_data"
    },
    {
     "data": {
      "application/vnd.jupyter.widget-view+json": {
       "model_id": "ce5ae3a8d9284213a737617e56dec28e",
       "version_major": 2,
       "version_minor": 0
      },
      "text/plain": [
       "Canvas(toolbar=Toolbar(toolitems=[('Home', 'Reset original view', 'home', 'home'), ('Back', 'Back to previous …"
      ]
     },
     "metadata": {},
     "output_type": "display_data"
    },
    {
     "data": {
      "application/vnd.jupyter.widget-view+json": {
       "model_id": "d2167792247746c68ea4e89451ece99c",
       "version_major": 2,
       "version_minor": 0
      },
      "text/plain": [
       "Canvas(toolbar=Toolbar(toolitems=[('Home', 'Reset original view', 'home', 'home'), ('Back', 'Back to previous …"
      ]
     },
     "metadata": {},
     "output_type": "display_data"
    },
    {
     "data": {
      "application/vnd.jupyter.widget-view+json": {
       "model_id": "5300cfd8b41c4751ba4c7e265f3f060e",
       "version_major": 2,
       "version_minor": 0
      },
      "text/plain": [
       "Canvas(toolbar=Toolbar(toolitems=[('Home', 'Reset original view', 'home', 'home'), ('Back', 'Back to previous …"
      ]
     },
     "metadata": {},
     "output_type": "display_data"
    },
    {
     "data": {
      "application/vnd.jupyter.widget-view+json": {
       "model_id": "20fa86053fb64306a76445a6488442e7",
       "version_major": 2,
       "version_minor": 0
      },
      "text/plain": [
       "Canvas(toolbar=Toolbar(toolitems=[('Home', 'Reset original view', 'home', 'home'), ('Back', 'Back to previous …"
      ]
     },
     "metadata": {},
     "output_type": "display_data"
    },
    {
     "data": {
      "application/vnd.jupyter.widget-view+json": {
       "model_id": "6135e9381c134111a053af930e9113d4",
       "version_major": 2,
       "version_minor": 0
      },
      "text/plain": [
       "Canvas(toolbar=Toolbar(toolitems=[('Home', 'Reset original view', 'home', 'home'), ('Back', 'Back to previous …"
      ]
     },
     "metadata": {},
     "output_type": "display_data"
    },
    {
     "name": "stderr",
     "output_type": "stream",
     "text": [
      "C:\\Users\\Miguel\\AppData\\Local\\Temp/ipykernel_1892/3840665601.py:13: RuntimeWarning: More than 20 figures have been opened. Figures created through the pyplot interface (`matplotlib.pyplot.figure`) are retained until explicitly closed and may consume too much memory. (To control this warning, see the rcParam `figure.max_open_warning`).\n",
      "  plt.figure()\n"
     ]
    },
    {
     "data": {
      "application/vnd.jupyter.widget-view+json": {
       "model_id": "558e25d5467a4ae1855c86f23678e97e",
       "version_major": 2,
       "version_minor": 0
      },
      "text/plain": [
       "Canvas(toolbar=Toolbar(toolitems=[('Home', 'Reset original view', 'home', 'home'), ('Back', 'Back to previous …"
      ]
     },
     "metadata": {},
     "output_type": "display_data"
    },
    {
     "data": {
      "application/vnd.jupyter.widget-view+json": {
       "model_id": "6fcc9042cc674f8888500d970dd80db9",
       "version_major": 2,
       "version_minor": 0
      },
      "text/plain": [
       "Canvas(toolbar=Toolbar(toolitems=[('Home', 'Reset original view', 'home', 'home'), ('Back', 'Back to previous …"
      ]
     },
     "metadata": {},
     "output_type": "display_data"
    },
    {
     "data": {
      "application/vnd.jupyter.widget-view+json": {
       "model_id": "a6e27ab623f540f18cbeafe1ef222b36",
       "version_major": 2,
       "version_minor": 0
      },
      "text/plain": [
       "Canvas(toolbar=Toolbar(toolitems=[('Home', 'Reset original view', 'home', 'home'), ('Back', 'Back to previous …"
      ]
     },
     "metadata": {},
     "output_type": "display_data"
    },
    {
     "data": {
      "application/vnd.jupyter.widget-view+json": {
       "model_id": "d81c524d909f40d39d5a582b8c914a9c",
       "version_major": 2,
       "version_minor": 0
      },
      "text/plain": [
       "Canvas(toolbar=Toolbar(toolitems=[('Home', 'Reset original view', 'home', 'home'), ('Back', 'Back to previous …"
      ]
     },
     "metadata": {},
     "output_type": "display_data"
    }
   ],
   "source": [
    "# First, calculate the fhData so we can run the comparisons.\n",
    "fhObjects = []\n",
    "for (idx, regionAndContact) in enumerate((contactsOfInterest)):\n",
    "    thisContactSeizures = []\n",
    "    for (jdx, seizure) in enumerate(seizureList):\n",
    "        (kStart, kEnd, oStart, oEnd) = seizure # unpack the tuple\n",
    "        regionOfInterest = regionAndContact[0]\n",
    "        contact = regionAndContact[1]\n",
    "        thisContactSeizures.append((fhMethods.FilterHilbert(), seizure)) # include the timestamps of the data.\n",
    "        thisContactSeizures[jdx][0].generateFilterArray(1, samplingRate, 4)\n",
    "        dat = (np.single(ecephysData.data_interfaces[regionOfInterest].data[kStart:kEnd, contact]))\n",
    "        dat = signal.lfilter(taps, [1],dat)\n",
    "        plt.figure()\n",
    "        plt.specgram(dat, Fs=samplingRate)\n",
    "        onset  = int(oStart - kStart)/samplingRate\n",
    "        offset = int(oEnd - kStart)/samplingRate\n",
    "        plt.vlines(int(onset), ymin=0, ymax=100, color='r')\n",
    "        plt.vlines(int(offset), ymin=0, ymax=100, color='r')\n",
    "        #plt.vlines(int(onset), ymin=np.min(dat), ymax=np.max(dat), color='r')\n",
    "        #plt.vlines(int(offset), ymin=np.min(dat), ymax=np.max(dat), color='r')\n",
    "        plt.title(regionOfInterest + str(contact)+' seizure ' + str(jdx))\n",
    "        plt.savefig(regionOfInterest + str(contact)+' seizure ' + str(jdx) + ' specgram.png')\n",
    "        thisContactSeizures[jdx][0].runFilterHilbert(dat)\n",
    "    fhObjects.append(thisContactSeizures) # put all fhObjects into a list of lists."
   ]
  },
  {
   "cell_type": "code",
   "execution_count": 21,
   "metadata": {},
   "outputs": [
    {
     "data": {
      "text/plain": [
       "[[(<fhMethods.FilterHilbert at 0x1e42a384d00>,\n",
       "   (32894600, 32936600, 32908000, 32929200))],\n",
       " [(<fhMethods.FilterHilbert at 0x1e42a3b7af0>,\n",
       "   (32894600, 32936600, 32908000, 32929200))],\n",
       " [(<fhMethods.FilterHilbert at 0x1e42a444760>,\n",
       "   (32894600, 32936600, 32908000, 32929200))],\n",
       " [(<fhMethods.FilterHilbert at 0x1e42c97a370>,\n",
       "   (32894600, 32936600, 32908000, 32929200))],\n",
       " [(<fhMethods.FilterHilbert at 0x1e429224e20>,\n",
       "   (32894600, 32936600, 32908000, 32929200))],\n",
       " [(<fhMethods.FilterHilbert at 0x1e429d62820>,\n",
       "   (32894600, 32936600, 32908000, 32929200))],\n",
       " [(<fhMethods.FilterHilbert at 0x1e42e237130>,\n",
       "   (32894600, 32936600, 32908000, 32929200))],\n",
       " [(<fhMethods.FilterHilbert at 0x1e42e528160>,\n",
       "   (32894600, 32936600, 32908000, 32929200))],\n",
       " [(<fhMethods.FilterHilbert at 0x1e42dc3fc40>,\n",
       "   (32894600, 32936600, 32908000, 32929200))],\n",
       " [(<fhMethods.FilterHilbert at 0x1e42e85f6a0>,\n",
       "   (32894600, 32936600, 32908000, 32929200))],\n",
       " [(<fhMethods.FilterHilbert at 0x1e42eb51190>,\n",
       "   (32894600, 32936600, 32908000, 32929200))],\n",
       " [(<fhMethods.FilterHilbert at 0x1e42f0e3910>,\n",
       "   (32894600, 32936600, 32908000, 32929200))]]"
      ]
     },
     "execution_count": 21,
     "metadata": {},
     "output_type": "execute_result"
    }
   ],
   "source": [
    "fhObjects"
   ]
  },
  {
   "cell_type": "code",
   "execution_count": 27,
   "metadata": {},
   "outputs": [
    {
     "data": {
      "application/vnd.jupyter.widget-view+json": {
       "model_id": "41c6e9890be541139b56b89c20d34d3d",
       "version_major": 2,
       "version_minor": 0
      },
      "text/plain": [
       "Canvas(toolbar=Toolbar(toolitems=[('Home', 'Reset original view', 'home', 'home'), ('Back', 'Back to previous …"
      ]
     },
     "metadata": {},
     "output_type": "display_data"
    },
    {
     "data": {
      "text/plain": [
       "Text(0.5, 1.0, 'LPH 6 vs LPH 5')"
      ]
     },
     "execution_count": 27,
     "metadata": {},
     "output_type": "execute_result"
    }
   ],
   "source": [
    "# contactsOfInterest = [('LPH', 5), ('LPH', 6), ('RAH', 3), ('RAH', 4), ('LPI', 5), ('LPI', 6),('LAI',5), ('LAI',6), ('LTP', 1), ('LTP', 6), ('LTP', 7), ('LTP', 8)]\n",
    "seizureTimes = fhObjects[0][0][1]\n",
    "(kStart, kEnd, oStart, oEnd) = seizureTimes\n",
    "onset = oStart - kStart\n",
    "offset = oEnd - kStart\n",
    "compareRegionsAndChannels(fhObjects[0][0][0], fhObjects[1][0][0].fhResult, fhObjects[0][0][0].fhResult, samplingRate, onset, offset)\n",
    "plt.title(\"LPH 6 vs LPH 5\")"
   ]
  },
  {
   "cell_type": "code",
   "execution_count": null,
   "metadata": {},
   "outputs": [],
   "source": [
    "# contactsOfInterest = [('LPH', 5), ('LPH', 6), ('RAH', 3), ('RAH', 4), ('LPI', 5), ('LPI', 6),('LAI',5), ('LAI',6), ('LTP', 1), ('LTP', 6), ('LTP', 7), ('LTP', 8)]\n",
    "seizureTimes = fhObjects[0][1][1]\n",
    "(kStart, kEnd, oStart, oEnd) = seizureTimes\n",
    "onset = oStart - kStart\n",
    "offset = oEnd - kStart\n",
    "compareRegionsAndChannels(fhObjects[0][0][0], fhObjects[1][1][0].fhResult, fhObjects[0][1][0].fhResult, samplingRate, onset, offset)\n",
    "plt.title(\"LPH 6 vs LPH 5\")"
   ]
  },
  {
   "cell_type": "code",
   "execution_count": null,
   "metadata": {},
   "outputs": [],
   "source": [
    "# contactsOfInterest = [('LPH', 5), ('LPH', 6), ('RAH', 3), ('RAH', 4), ('LPI', 5), ('LPI', 6),('LAI',5), ('LAI',6), ('LTP', 1), ('LTP', 6), ('LTP', 7), ('LTP', 8)]\n",
    "seizureTimes = fhObjects[0][2][1]\n",
    "(kStart, kEnd, oStart, oEnd) = seizureTimes\n",
    "onset = oStart - kStart\n",
    "offset = oEnd - kStart\n",
    "compareRegionsAndChannels(fhObjects[0][0][0], fhObjects[1][2][0].fhResult, fhObjects[0][2][0].fhResult, samplingRate, onset, offset)\n",
    "plt.title(\"LPH 6 vs LPH 5\")"
   ]
  },
  {
   "cell_type": "code",
   "execution_count": null,
   "metadata": {},
   "outputs": [],
   "source": [
    "# contactsOfInterest = [('LPH', 5), ('LPH', 6), ('RAH', 3), ('RAH', 4), ('LPI', 5), ('LPI', 6),('LAI',5), ('LAI',6), ('LTP', 1), ('LTP', 6), ('LTP', 7), ('LTP', 8)]\n",
    "seizureTimes = fhObjects[0][2][1]\n",
    "(kStart, kEnd, oStart, oEnd) = seizureTimes\n",
    "onset = oStart - kStart\n",
    "offset = oEnd - kStart\n",
    "compareRegionsAndChannels(fhObjects[0][0][0], fhObjects[1][2][0].fhResult, fhObjects[4][2][0].fhResult, samplingRate, onset, offset)\n",
    "plt.title(\"LPH 6 vs LPI 5\")"
   ]
  },
  {
   "cell_type": "code",
   "execution_count": null,
   "metadata": {},
   "outputs": [],
   "source": [
    "# contactsOfInterest = [('LPH', 5), ('LPH', 6), ('RAH', 3), ('RAH', 4), ('LPI', 5), ('LPI', 6),('LAI',5), ('LAI',6), ('LTP', 1), ('LTP', 6), ('LTP', 7), ('LTP', 8)]\n",
    "seizureTimes = fhObjects[0][1][1]\n",
    "(kStart, kEnd, oStart, oEnd) = seizureTimes\n",
    "onset = oStart - kStart\n",
    "offset = oEnd - kStart\n",
    "compareRegionsAndChannels(fhObjects[0][0][0], fhObjects[1][1][0].fhResult, fhObjects[4][1][0].fhResult, samplingRate, onset, offset)\n",
    "plt.title(\"LPH 6 vs LPI 5\")"
   ]
  },
  {
   "cell_type": "code",
   "execution_count": null,
   "metadata": {},
   "outputs": [],
   "source": [
    "# contactsOfInterest = [('LPH', 5), ('LPH', 6), ('RAH', 3), ('RAH', 4), ('LPI', 5), ('LPI', 6),('LAI',5), ('LAI',6), ('LTP', 1), ('LTP', 6), ('LTP', 7), ('LTP', 8)]\n",
    "seizureTimes = fhObjects[0][0][1]\n",
    "(kStart, kEnd, oStart, oEnd) = seizureTimes\n",
    "onset = oStart - kStart\n",
    "offset = oEnd - kStart\n",
    "compareRegionsAndChannels(fhObjects[0][0][0], fhObjects[1][0][0].fhResult, fhObjects[4][0][0].fhResult, samplingRate, onset, offset)\n",
    "plt.title(\"LPH 6 vs LPI 5\")"
   ]
  },
  {
   "cell_type": "code",
   "execution_count": null,
   "metadata": {},
   "outputs": [],
   "source": [
    "# contactsOfInterest = [('LPH', 5), ('LPH', 6), ('RAH', 3), ('RAH', 4), ('LPI', 5), ('LPI', 6),('LAI',5), ('LAI',6), ('LTP', 1), ('LTP', 6), ('LTP', 7), ('LTP', 8)]\n",
    "seizureTimes = fhObjects[0][0][1]\n",
    "(kStart, kEnd, oStart, oEnd) = seizureTimes\n",
    "onset = oStart - kStart\n",
    "offset = oEnd - kStart\n",
    "compareRegionsAndChannels(fhObjects[0][0][0], fhObjects[1][0][0].fhResult, fhObjects[2][0][0].fhResult, samplingRate, onset, offset)\n",
    "plt.title(\"LPH 6 vs RAH 3\")"
   ]
  },
  {
   "cell_type": "code",
   "execution_count": null,
   "metadata": {},
   "outputs": [],
   "source": [
    "# contactsOfInterest = [('LPH', 5), ('LPH', 6), ('RAH', 3), ('RAH', 4), ('LPI', 5), ('LPI', 6),('LAI',5), ('LAI',6), ('LTP', 1), ('LTP', 6), ('LTP', 7), ('LTP', 8)]\n",
    "seizureTimes = fhObjects[0][1][1]\n",
    "(kStart, kEnd, oStart, oEnd) = seizureTimes\n",
    "onset = oStart - kStart\n",
    "offset = oEnd - kStart\n",
    "compareRegionsAndChannels(fhObjects[0][0][0], fhObjects[1][1][0].fhResult, fhObjects[2][1][0].fhResult, samplingRate, onset, offset)\n",
    "plt.title(\"LPH 6 vs RAH 3\")"
   ]
  },
  {
   "cell_type": "code",
   "execution_count": null,
   "metadata": {},
   "outputs": [],
   "source": [
    "# contactsOfInterest = [('LPH', 5), ('LPH', 6), ('RAH', 3), ('RAH', 4), ('LPI', 5), ('LPI', 6),('LAI',5), ('LAI',6), ('LTP', 1), ('LTP', 6), ('LTP', 7), ('LTP', 8)]\n",
    "seizureTimes = fhObjects[0][2][1]\n",
    "(kStart, kEnd, oStart, oEnd) = seizureTimes\n",
    "onset = oStart - kStart\n",
    "offset = oEnd - kStart\n",
    "compareRegionsAndChannels(fhObjects[0][0][0], fhObjects[1][2][0].fhResult, fhObjects[2][2][0].fhResult, samplingRate, onset, offset)\n",
    "plt.title(\"LPH 6 vs RAH 3\")"
   ]
  },
  {
   "cell_type": "code",
   "execution_count": null,
   "metadata": {},
   "outputs": [],
   "source": [
    "# Get TS data to plot raw trace\n",
    "seizureTimes = fhObjects[1][0][1]\n",
    "(kStart, kEnd, oStart, oEnd) = seizureTimes\n",
    "lph6Seizure1 = signal.lfilter(taps, [1], (ecephysData.data_interfaces['LPH'].data[kStart:kEnd, 6] - car[kStart:kEnd]))\n",
    "\n",
    "seizureTimes = fhObjects[1][1][1]\n",
    "(kStart, kEnd, oStart, oEnd) = seizureTimes\n",
    "lph6Seizure2 = signal.lfilter(taps, [1], (ecephysData.data_interfaces['LPH'].data[kStart:kEnd, 6] - car[kStart:kEnd]))\n",
    "\n",
    "seizureTimes = fhObjects[1][2][1]\n",
    "(kStart, kEnd, oStart, oEnd) = seizureTimes\n",
    "lph6Seizure3 = signal.lfilter(taps, [1], (ecephysData.data_interfaces['LPH'].data[kStart:kEnd, 6] - car[kStart:kEnd]))\n",
    "\n",
    "# LPH 5\n",
    "seizureTimes = fhObjects[1][0][1]\n",
    "(kStart, kEnd, oStart, oEnd) = seizureTimes\n",
    "lph5Seizure1 = signal.lfilter(taps, [1], (ecephysData.data_interfaces['LPH'].data[kStart:kEnd, 5] - car[kStart:kEnd]))\n",
    "\n",
    "seizureTimes = fhObjects[1][1][1]\n",
    "(kStart, kEnd, oStart, oEnd) = seizureTimes\n",
    "lph5Seizure2 = signal.lfilter(taps, [1], (ecephysData.data_interfaces['LPH'].data[kStart:kEnd, 5] - car[kStart:kEnd]))\n",
    "\n",
    "seizureTimes = fhObjects[1][2][1]\n",
    "(kStart, kEnd, oStart, oEnd) = seizureTimes\n",
    "lph5Seizure3 = signal.lfilter(taps, [1], (ecephysData.data_interfaces['LPH'].data[kStart:kEnd, 5] - car[kStart:kEnd]))\n",
    "\n",
    "# LPI 5\n",
    "seizureTimes = fhObjects[1][0][1]\n",
    "(kStart, kEnd, oStart, oEnd) = seizureTimes\n",
    "lpi5Seizure1 = signal.lfilter(taps, [1], (ecephysData.data_interfaces['LPI'].data[kStart:kEnd, 5] - car[kStart:kEnd]))\n",
    "\n",
    "seizureTimes = fhObjects[1][1][1]\n",
    "(kStart, kEnd, oStart, oEnd) = seizureTimes\n",
    "lpi5Seizure2 = signal.lfilter(taps, [1], (ecephysData.data_interfaces['LPI'].data[kStart:kEnd, 5] - car[kStart:kEnd]))\n",
    "\n",
    "seizureTimes = fhObjects[1][2][1]\n",
    "(kStart, kEnd, oStart, oEnd) = seizureTimes\n",
    "lpi5Seizure3 = signal.lfilter(taps, [1], (ecephysData.data_interfaces['LPI'].data[kStart:kEnd, 5] - car[kStart:kEnd]))\n",
    "\n",
    "# RAH 3\n",
    "seizureTimes = fhObjects[1][0][1]\n",
    "(kStart, kEnd, oStart, oEnd) = seizureTimes\n",
    "rah3Seizure1 = signal.lfilter(taps, [1], (ecephysData.data_interfaces['RAH'].data[kStart:kEnd, 3] - car[kStart:kEnd]))\n",
    "\n",
    "seizureTimes = fhObjects[1][1][1]\n",
    "(kStart, kEnd, oStart, oEnd) = seizureTimes\n",
    "rah3Seizure2 = signal.lfilter(taps, [1], (ecephysData.data_interfaces['RAH'].data[kStart:kEnd, 3] - car[kStart:kEnd]))\n",
    "\n",
    "seizureTimes = fhObjects[1][2][1]\n",
    "(kStart, kEnd, oStart, oEnd) = seizureTimes\n",
    "rah3Seizure3 = signal.lfilter(taps, [1], (ecephysData.data_interfaces['RAH'].data[kStart:kEnd, 3] - car[kStart:kEnd]))"
   ]
  },
  {
   "cell_type": "code",
   "execution_count": null,
   "metadata": {},
   "outputs": [],
   "source": [
    "lph6Complete = (np.single(ecephysData.data_interfaces['LPH'].data[:, 5] - car))\n",
    "lph6Complete = signal.lfilter(taps, [1],lph6Complete)\n",
    "\n",
    "lph6fh = fhMethods.FilterHilbert()\n",
    "lph6fh.generateFilterArray(1, samplingRate, 4)\n",
    "lph6fh.runFilterHilbert(lph6Complete)\n",
    "\n",
    "lpi5Complete = (np.single(ecephysData.data_interfaces['LPI'].data[:, 5] - car))\n",
    "lpi5Complete = signal.lfilter(taps, [1],lph6Complete)\n",
    "\n",
    "lpi5fh = fhMethods.FilterHilbert()\n",
    "lpi5fh.generateFilterArray(1, samplingRate, 4)\n",
    "lpi5fh.runFilterHilbert(lpi5Complete)"
   ]
  },
  {
   "cell_type": "code",
   "execution_count": null,
   "metadata": {},
   "outputs": [],
   "source": [
    "kEnd-kStart"
   ]
  },
  {
   "cell_type": "code",
   "execution_count": null,
   "metadata": {},
   "outputs": [],
   "source": [
    "compareRegionsAndChannels(lph6fh, np.csingle(lph6fh.fhResult), np.csingle(lpi5fh.fhResult), samplingRate, seizureList[0][2], seizureList[0][3])"
   ]
  },
  {
   "cell_type": "code",
   "execution_count": 26,
   "metadata": {},
   "outputs": [],
   "source": [
    "def compareRegionsAndChannels(fhObject, dat1, dat2, samplingRate, onset, offset):\n",
    "    ppCoupling = fhObject.calculatePhaseDifferencesSlow(dat1, dat2, 10, 0.5)\n",
    "    plt.figure()\n",
    "    plt.pcolormesh(np.single(ppCoupling), rasterized=True)\n",
    "    plt.vlines(int(onset), ymin=0, ymax=100, color='r')\n",
    "    plt.vlines(int(offset), ymin=0, ymax=100, color='r')"
   ]
  },
  {
   "cell_type": "code",
   "execution_count": 24,
   "metadata": {},
   "outputs": [],
   "source": [
    "def plot_response(fs, w, h, title):\n",
    "    \"Utility function to plot response functions\"\n",
    "    fig = plt.figure()\n",
    "    ax = fig.add_subplot(111)\n",
    "    ax.plot(0.5*fs*w/np.pi, 20*np.log10(np.abs(h)))\n",
    "    ax.set_ylim(-40, 5)\n",
    "    ax.set_xlim(0, 0.5*fs)\n",
    "    ax.grid(True)\n",
    "    ax.set_xlabel('Frequency (Hz)')\n",
    "    ax.set_ylabel('Gain (dB)')\n",
    "    ax.set_title(title)"
   ]
  }
 ],
 "metadata": {
  "interpreter": {
   "hash": "73f6045da2a9c6678e54f152b8cd11b10e37e4561a33d30099fa3d4318133601"
  },
  "kernelspec": {
   "display_name": "Python 3.8.11 64-bit ('analysis': conda)",
   "name": "python3"
  },
  "language_info": {
   "codemirror_mode": {
    "name": "ipython",
    "version": 3
   },
   "file_extension": ".py",
   "mimetype": "text/x-python",
   "name": "python",
   "nbconvert_exporter": "python",
   "pygments_lexer": "ipython3",
   "version": "3.8.11"
  },
  "orig_nbformat": 4
 },
 "nbformat": 4,
 "nbformat_minor": 2
}
